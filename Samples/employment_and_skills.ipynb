{
 "cells": [
  {
   "cell_type": "markdown",
   "metadata": {},
   "source": [
    "### Employment and Skills"
   ]
  },
  {
   "cell_type": "code",
   "execution_count": 1,
   "metadata": {},
   "outputs": [],
   "source": [
    "import os\n",
    "from pathlib import Path\n",
    "\n",
    "home_dir = str(Path.home())\n",
    "tdc = os.path.join(home_dir, 'Desktop/python_library_dc/digital-connector-python')\n",
    "digital_connector = os.path.join(home_dir, 'Desktop/UptodateProject/TomboloDigitalConnector')\n",
    "os.chdir(tdc)"
   ]
  },
  {
   "cell_type": "code",
   "execution_count": 7,
   "metadata": {},
   "outputs": [],
   "source": [
    "from recipe import Subject, Dataset, Geo_Match_Rule, Match_Rule, Datasource, GeographicAggregationField, FixedValueField, AttributeMatcherField, AttributeMatcher, LatestValueField"
   ]
  },
  {
   "cell_type": "code",
   "execution_count": 3,
   "metadata": {},
   "outputs": [],
   "source": [
    "match_rule_ = Match_Rule(attribute_to_match_on='label', pattern='E0900%')\n",
    "inner_subject = Subject(subject_type_label='localAuthority', provider_label='uk.gov.ons', \n",
    "                       match_rule=match_rule_)\n",
    "geo_match_ = Geo_Match_Rule(geo_relation='within', subjects=[inner_subject])\n",
    "main_subject = Subject(subject_type_label='lsoa', provider_label='uk.gov.ons', \n",
    "                      geo_match_rule=geo_match_)"
   ]
  },
  {
   "cell_type": "code",
   "execution_count": 4,
   "metadata": {},
   "outputs": [],
   "source": [
    "ons_employment = 'uk.org.tombolo.importer.ons.ONSEmploymentImporter'\n",
    "schools_importer = 'uk.org.tombolo.importer.dfe.SchoolsImporter'\n",
    "ons_wages = 'uk.org.tombolo.importer.ons.ONSWagesImporter'\n",
    "oa_importer = 'uk.org.tombolo.importer.ons.OaImporter'\n",
    "\n",
    "ds_oa = Datasource(importer_class=oa_importer, datasource_id='localAuthority') \n",
    "ds_employment = Datasource(importer_class=ons_employment, datasource_id='ESAclaimants')\n",
    "ds_si = Datasource(importer_class=schools_importer, datasource_id='schools')\n",
    "ds_wages = Datasource(importer_class=ons_wages, datasource_id='wages')\n",
    "\n"
   ]
  },
  {
   "cell_type": "code",
   "execution_count": 6,
   "metadata": {},
   "outputs": [],
   "source": [
    "attr_wages = AttributeMatcher(provider='uk.gov.ons', label='asheTable81aWeeklyPayGrossMaleMean')\n",
    "field_wages = LatestValueField(attribute_matcher=attr_wages, label='wages_mean')"
   ]
  },
  {
   "cell_type": "code",
   "execution_count": 8,
   "metadata": {},
   "outputs": [],
   "source": [
    "attr_schools = AttributeMatcher(provider='uk.gov.education', label='URN')\n",
    "field_schools = FixedValueField(attribute_matcher=attr_schools, label='schools')"
   ]
  },
  {
   "cell_type": "code",
   "execution_count": 9,
   "metadata": {},
   "outputs": [],
   "source": [
    "attr_employment = AttributeMatcher(provider='uk.gov.ons', label='ESAclaimants')\n",
    "field_employment = LatestValueField(attribute_matcher=attr_employment, label='ESAclaimants')"
   ]
  },
  {
   "cell_type": "code",
   "execution_count": 10,
   "metadata": {},
   "outputs": [],
   "source": [
    "dataset = Dataset(subjects=[main_subject], datasources=[ds_oa, ds_employment, ds_si, ds_wages], \n",
    "                  fields=[field_wages, field_schools, field_employment])"
   ]
  },
  {
   "cell_type": "code",
   "execution_count": 12,
   "metadata": {},
   "outputs": [
    {
     "name": "stdout",
     "output_type": "stream",
     "text": [
      "{\n",
      "  \"dataset\": {\n",
      "    \"subjects\": [\n",
      "      {\n",
      "        \"subjectType\": \"lsoa\",\n",
      "        \"provider\": \"uk.gov.ons\",\n",
      "        \"geoMatchRule\": {\n",
      "          \"geoRelation\": \"within\",\n",
      "          \"subjects\": [\n",
      "            {\n",
      "              \"subjectType\": \"localAuthority\",\n",
      "              \"provider\": \"uk.gov.ons\",\n",
      "              \"matchRule\": {\n",
      "                \"attribute\": \"label\",\n",
      "                \"pattern\": \"E0900%\"\n",
      "              }\n",
      "            }\n",
      "          ]\n",
      "        }\n",
      "      }\n",
      "    ],\n",
      "    \"datasources\": [\n",
      "      {\n",
      "        \"importerClass\": \"uk.org.tombolo.importer.ons.OaImporter\",\n",
      "        \"datasourceId\": \"localAuthority\"\n",
      "      },\n",
      "      {\n",
      "        \"importerClass\": \"uk.org.tombolo.importer.ons.ONSEmploymentImporter\",\n",
      "        \"datasourceId\": \"ESAclaimants\"\n",
      "      },\n",
      "      {\n",
      "        \"importerClass\": \"uk.org.tombolo.importer.dfe.SchoolsImporter\",\n",
      "        \"datasourceId\": \"schools\"\n",
      "      },\n",
      "      {\n",
      "        \"importerClass\": \"uk.org.tombolo.importer.ons.ONSWagesImporter\",\n",
      "        \"datasourceId\": \"wages\"\n",
      "      }\n",
      "    ],\n",
      "    \"fields\": [\n",
      "      {\n",
      "        \"fieldClass\": \"uk.org.tombolo.field.value.LatestValueField\",\n",
      "        \"label\": \"wages_mean\",\n",
      "        \"attribute\": {\n",
      "          \"provider\": \"uk.gov.ons\",\n",
      "          \"label\": \"asheTable81aWeeklyPayGrossMaleMean\"\n",
      "        }\n",
      "      },\n",
      "      {\n",
      "        \"fieldClass\": \"uk.org.tombolo.field.value.FixedValueField\",\n",
      "        \"label\": \"schools\",\n",
      "        \"attribute\": {\n",
      "          \"provider\": \"uk.gov.education\",\n",
      "          \"label\": \"URN\"\n",
      "        }\n",
      "      },\n",
      "      {\n",
      "        \"fieldClass\": \"uk.org.tombolo.field.value.LatestValueField\",\n",
      "        \"label\": \"ESAclaimants\",\n",
      "        \"attribute\": {\n",
      "          \"provider\": \"uk.gov.ons\",\n",
      "          \"label\": \"ESAclaimants\"\n",
      "        }\n",
      "      }\n",
      "    ]\n",
      "  },\n",
      "  \"exporter\": \"uk.org.tombolo.exporter.GeoJsonExporter\",\n",
      "  \"timeStamp\": false\n",
      "}\n",
      "b':compileJava UP-TO-DATE\\n'\n",
      "b':processResources UP-TO-DATE\\n'\n",
      "b':classes UP-TO-DATE\\n'\n",
      "b':runExportHelp UP-TO-DATE\\n'\n",
      "b':runExport\\n'\n",
      "b'2018-03-16 15:22:59.477 [main] WARN  n.s.e.config.ConfigurationFactory - No configuration found. Configuring ehcache from ehcache-failsafe.xml  found in the classpath: jar:file:/Users/hemanshu/.gradle/caches/modules-2/files-2.1/net.sf.ehcache/ehcache/2.10.3/cf74f9a4a049f181833b147a1d9aa62159c9d01d/ehcache-2.10.3.jar!/ehcache-failsafe.xml\\n'\n",
      "b'2018-03-16 15:23:00.349 [main] INFO  uk.org.tombolo.AbstractRunner - Setting file download cache: /tmp\\n'\n",
      "b\"2018-03-16 15:23:00.439 [main] INFO  org.ehcache.core.EhcacheManager - Cache 'fields' created in EhcacheManager.\\n\"\n",
      "b'2018-03-16 15:23:00.609 [main] INFO  u.o.t.importer.AbstractImporter - Skipped importing uk.org.tombolo.importer.ons.OaImporter:localAuthority as this import has been completed previously\\n'\n",
      "b'2018-03-16 15:23:00.616 [main] INFO  u.o.t.importer.AbstractImporter - Skipped importing uk.org.tombolo.importer.ons.OaImporter:lsoa as this import has been completed previously\\n'\n",
      "b'2018-03-16 15:23:00.617 [main] INFO  u.o.t.importer.AbstractImporter - Skipped importing uk.org.tombolo.importer.ons.OaImporter:localAuthority as this import has been completed previously\\n'\n",
      "b'2018-03-16 15:23:00.618 [main] INFO  u.o.t.importer.AbstractImporter - Skipped importing uk.org.tombolo.importer.ons.ONSEmploymentImporter:ESAclaimants as this import has been completed previously\\n'\n",
      "b'2018-03-16 15:23:00.623 [main] INFO  u.o.t.importer.AbstractImporter - Skipped importing uk.org.tombolo.importer.dfe.SchoolsImporter:schools as this import has been completed previously\\n'\n",
      "b'2018-03-16 15:23:00.626 [main] INFO  u.o.t.importer.AbstractImporter - Skipped importing uk.org.tombolo.importer.ons.OaImporter:localAuthority as this import has been completed previously\\n'\n",
      "b'2018-03-16 15:23:00.628 [main] INFO  u.o.t.importer.AbstractImporter - Importing uk.org.tombolo.importer.ons.ONSWagesImporter:wages\\n'\n",
      "b'2018-03-16 15:23:01.069 [main] INFO  u.org.tombolo.importer.DownloadUtils - Fetching local file: /private/tmp/TomboloData/uk.gov.ons/0c5b6b65-f1cb-3cab-a7d5-5ac338148437.zip\\n'\n",
      "b'2018-03-16 15:23:01.069 [main] INFO  u.org.tombolo.importer.DownloadUtils - Local file not found: /private/tmp/TomboloData/uk.gov.ons/0c5b6b65-f1cb-3cab-a7d5-5ac338148437.zip \\n'\n",
      "b'Downloading external resource: http://www.ons.gov.uk/file?uri=/employmentandlabourmarket/peopleinwork/earningsandworkinghours/datasets/placeofresidencebylocalauthorityashetable8/2016/table82016provisional.zip\\n'\n",
      "b'2018-03-16 15:23:01.143 [main] ERROR uk.org.tombolo.DataExportRunner - \\n'\n",
      "b'\\x1b[1;31m-----> TASK FAILED: Server returned HTTP response code: 403 for URL: http://www.ons.gov.uk/file?uri=/employmentandlabourmarket/peopleinwork/earningsandworkinghours/datasets/placeofresidencebylocalauthorityashetable8/2016/table82016provisional.zip<-----\\n'\n",
      "b'Caused by null\\n'\n",
      "b'\\n'\n",
      "b'\\x1b[0;31mjava.io.IOException: Server returned HTTP response code: 403 for URL: http://www.ons.gov.uk/file?uri=/employmentandlabourmarket/peopleinwork/earningsandworkinghours/datasets/placeofresidencebylocalauthorityashetable8/2016/table82016provisional.zip\\n'\n",
      "b'\\tat sun.net.www.protocol.http.HttpURLConnection.getInputStream0(HttpURLConnection.java:1876)\\n'\n",
      "b'\\tat sun.net.www.protocol.http.HttpURLConnection.getInputStream(HttpURLConnection.java:1474)\\n'\n",
      "b'\\tat java.net.URL.openStream(URL.java:1045)\\n'\n",
      "b'\\tat org.apache.commons.io.FileUtils.copyURLToFile(FileUtils.java:1460)\\n'\n",
      "b'\\tat uk.org.tombolo.importer.DownloadUtils.fetchFile(DownloadUtils.java:41)\\n'\n",
      "b'\\tat uk.org.tombolo.importer.ons.ONSWagesImporter.importDatasource(ONSWagesImporter.java:173)\\n'\n",
      "b'\\tat uk.org.tombolo.importer.AbstractImporter.importDatasource(AbstractImporter.java:107)\\n'\n",
      "b'\\tat uk.org.tombolo.importer.AbstractOaImporter.importDatasource(AbstractOaImporter.java:29)\\n'\n",
      "b'\\tat uk.org.tombolo.execution.DataExportEngine.importDatasource(DataExportEngine.java:91)\\n'\n",
      "b'\\tat uk.org.tombolo.execution.DataExportEngine.execute(DataExportEngine.java:44)\\n'\n",
      "b'\\tat uk.org.tombolo.DataExportRunner.run(DataExportRunner.java:59)\\n'\n",
      "b'\\tat uk.org.tombolo.DataExportRunner.main(DataExportRunner.java:39)\\n'\n",
      "b'\\x1b[m\\n'\n",
      "b'\\n'\n",
      "b'BUILD SUCCESSFUL in 4s\\n'\n",
      "b'3 actionable tasks: 1 executed, 2 up-to-date\\n'\n",
      "Execution completed Successfully!!!!\n"
     ]
    }
   ],
   "source": [
    "dataset.build_and_run(tombolo_path=digital_connector, model_output_location='Desktop/employment_and_skills.json', \n",
    "                     recipe_console_print=True, model_output_console_print=True)"
   ]
  },
  {
   "cell_type": "code",
   "execution_count": null,
   "metadata": {},
   "outputs": [],
   "source": []
  }
 ],
 "metadata": {
  "kernelspec": {
   "display_name": "Python 3",
   "language": "python",
   "name": "python3"
  },
  "language_info": {
   "codemirror_mode": {
    "name": "ipython",
    "version": 3
   },
   "file_extension": ".py",
   "mimetype": "text/x-python",
   "name": "python",
   "nbconvert_exporter": "python",
   "pygments_lexer": "ipython3",
   "version": "3.6.4"
  }
 },
 "nbformat": 4,
 "nbformat_minor": 2
}
